{
 "cells": [
  {
   "cell_type": "code",
   "execution_count": 1,
   "id": "169ac019-e6fa-4b41-a339-8a1f32236359",
   "metadata": {
    "execution": {
     "iopub.execute_input": "2024-05-30T23:59:26.762467Z",
     "iopub.status.busy": "2024-05-30T23:59:26.759878Z",
     "iopub.status.idle": "2024-05-30T23:59:28.771355Z",
     "shell.execute_reply": "2024-05-30T23:59:28.769816Z",
     "shell.execute_reply.started": "2024-05-30T23:59:26.762334Z"
    }
   },
   "outputs": [],
   "source": [
    "# Import Libraries and Configure Environment\n",
    "import sys\n",
    "import os\n",
    "\n",
    "# Assuming ROS is installed in the default location\n",
    "ros_path = '/opt/ros/noetic/lib/python3/dist-packages'\n",
    "if ros_path not in sys.path:\n",
    "    sys.path.append(ros_path)\n",
    "\n",
    "# Add your ROS workspace\n",
    "workspace_path = os.path.join(os.environ['HOME'], 'Desktop/RT1_2/catkin_ws/devel/lib/python3/dist-packages')\n",
    "if workspace_path not in sys.path:\n",
    "    sys.path.append(workspace_path)\n",
    "\n",
    "# Importing necessary libraries\n",
    "import rospy\n",
    "from geometry_msgs.msg import Point, Pose, Twist\n",
    "from nav_msgs.msg import Odometry\n",
    "import actionlib\n",
    "from assignment_2_2023.msg import Vel, PlanningAction, PlanningGoal, PlanningResult\n",
    "from actionlib_msgs.msg import GoalStatus\n",
    "import ipywidgets as widgets\n",
    "from IPython.display import display, clear_output\n",
    "import matplotlib.pyplot as plt\n",
    "from matplotlib.animation import FuncAnimation\n"
   ]
  },
  {
   "cell_type": "code",
   "execution_count": 2,
   "id": "a9473dfc-8928-426a-b680-ce440cd100f7",
   "metadata": {
    "execution": {
     "iopub.execute_input": "2024-05-30T23:59:28.784678Z",
     "iopub.status.busy": "2024-05-30T23:59:28.779612Z",
     "iopub.status.idle": "2024-05-30T23:59:28.804857Z",
     "shell.execute_reply": "2024-05-30T23:59:28.802550Z",
     "shell.execute_reply.started": "2024-05-30T23:59:28.784589Z"
    }
   },
   "outputs": [],
   "source": [
    "# Initialize global variables\n",
    "x_data = []\n",
    "y_data = []\n",
    "reached_goals = 0\n",
    "missed_goals = 0\n",
    "\n",
    "# Define goal handling functions\n",
    "def set_goal(b):\n",
    "    goal_x = goal_x_widget.value\n",
    "    goal_y = goal_y_widget.value\n",
    "    rospy.set_param('/des_pos_x', goal_x)\n",
    "    rospy.set_param('/des_pos_y', goal_y)\n",
    "    new_goal = PlanningGoal()\n",
    "    new_goal.target_pose.pose.position.x = goal_x\n",
    "    new_goal.target_pose.pose.position.y = goal_y\n",
    "    goal_action_client.send_goal(new_goal, done_cb=goal_done_cb)\n",
    "    rospy.loginfo(f\"Set new goal: ({goal_x}, {goal_y})\")\n",
    "\n",
    "def cancel_goal(b):\n",
    "    goal_action_client.cancel_goal()\n",
    "    rospy.loginfo(\"Goal cancelled\")\n",
    "\n",
    "def goal_done_cb(state, result):\n",
    "    global reached_goals, missed_goals\n",
    "    if state == GoalStatus.SUCCEEDED:\n",
    "        reached_goals += 1\n",
    "    else:\n",
    "        missed_goals += 1\n",
    "    update_goal_stats()\n",
    "\n",
    "def update_goal_stats():\n",
    "    goal_stats_text.set_text(f\"Reached Goals: {reached_goals}\\nMissed Goals: {missed_goals}\")\n",
    "    ax2.figure.canvas.draw()\n"
   ]
  },
  {
   "cell_type": "code",
   "execution_count": 3,
   "id": "c17b8729-0f41-4d81-aa05-7e9a26a6fcec",
   "metadata": {
    "execution": {
     "iopub.execute_input": "2024-05-30T23:59:28.809481Z",
     "iopub.status.busy": "2024-05-30T23:59:28.806636Z",
     "iopub.status.idle": "2024-05-30T23:59:28.831239Z",
     "shell.execute_reply": "2024-05-30T23:59:28.828487Z",
     "shell.execute_reply.started": "2024-05-30T23:59:28.809405Z"
    }
   },
   "outputs": [],
   "source": [
    "# Initialize global variables\n",
    "x_data = []\n",
    "y_data = []\n",
    "reached_goals = 0\n",
    "missed_goals = 0\n",
    "\n",
    "# Define goal handling functions\n",
    "def set_goal(b):\n",
    "    goal_x = goal_x_widget.value\n",
    "    goal_y = goal_y_widget.value\n",
    "    rospy.set_param('/des_pos_x', goal_x)\n",
    "    rospy.set_param('/des_pos_y', goal_y)\n",
    "    new_goal = PlanningGoal()\n",
    "    new_goal.target_pose.pose.position.x = goal_x\n",
    "    new_goal.target_pose.pose.position.y = goal_y\n",
    "    goal_action_client.send_goal(new_goal, done_cb=goal_done_cb)\n",
    "    rospy.loginfo(f\"Set new goal: ({goal_x}, {goal_y})\")\n",
    "\n",
    "def cancel_goal(b):\n",
    "    goal_action_client.cancel_goal()\n",
    "    rospy.loginfo(\"Goal cancelled\")\n",
    "\n",
    "def goal_done_cb(state, result):\n",
    "    global reached_goals, missed_goals\n",
    "    if state == GoalStatus.SUCCEEDED:\n",
    "        reached_goals += 1\n",
    "    else:\n",
    "        missed_goals += 1\n",
    "    update_goal_stats()\n",
    "\n",
    "def update_goal_stats():\n",
    "    goal_stats_text.set_text(f\"Reached Goals: {reached_goals}\\nMissed Goals: {missed_goals}\")\n",
    "    ax2.figure.canvas.draw()\n"
   ]
  },
  {
   "cell_type": "code",
   "execution_count": 4,
   "id": "e575406a-5fd7-46ef-b184-2536ea98c928",
   "metadata": {
    "execution": {
     "iopub.execute_input": "2024-05-30T23:59:28.836236Z",
     "iopub.status.busy": "2024-05-30T23:59:28.834492Z",
     "iopub.status.idle": "2024-05-30T23:59:29.076634Z",
     "shell.execute_reply": "2024-05-30T23:59:29.072312Z",
     "shell.execute_reply.started": "2024-05-30T23:59:28.836151Z"
    }
   },
   "outputs": [
    {
     "name": "stdout",
     "output_type": "stream",
     "text": [
      "Initializing ROS node...\n",
      "ROS node initialized.\n",
      "Creating action client...\n",
      "Waiting for action server to start...\n",
      "Error: Action server not available.\n"
     ]
    }
   ],
   "source": [
    "# Initialize ROS node and action client with debug information\n",
    "print(\"Initializing ROS node...\")\n",
    "rospy.init_node('target_goal_manager', anonymous=True)\n",
    "print(\"ROS node initialized.\")\n",
    "\n",
    "print(\"Creating action client...\")\n",
    "goal_action_client = actionlib.SimpleActionClient('/reaching_goal', PlanningAction)\n",
    "print(\"Waiting for action server to start...\")\n",
    "\n",
    "# Wait for the action server to start with a longer timeout\n",
    "server_started = goal_action_client.wait_for_server(timeout=rospy.Duration(30.0))\n",
    "if not server_started:\n",
    "    print(\"Error: Action server not available.\")\n",
    "else:\n",
    "    print(\"Action server started.\")\n"
   ]
  },
  {
   "cell_type": "code",
   "execution_count": 5,
   "id": "0f13d492-3838-4db1-9804-78cd8217f764",
   "metadata": {
    "execution": {
     "iopub.execute_input": "2024-05-30T23:59:29.082362Z",
     "iopub.status.busy": "2024-05-30T23:59:29.080867Z",
     "iopub.status.idle": "2024-05-30T23:59:29.158108Z",
     "shell.execute_reply": "2024-05-30T23:59:29.156358Z",
     "shell.execute_reply.started": "2024-05-30T23:59:29.082239Z"
    }
   },
   "outputs": [],
   "source": [
    "# Create widgets for displaying position and velocity\n",
    "pos_x_widget = widgets.FloatText(description='Pos X')\n",
    "pos_y_widget = widgets.FloatText(description='Pos Y')\n",
    "vel_x_widget = widgets.FloatText(description='Vel X')\n",
    "vel_z_widget = widgets.FloatText(description='Vel Z')\n"
   ]
  },
  {
   "cell_type": "code",
   "execution_count": 6,
   "id": "68a5d8aa-6f02-47b1-92c2-fc10a8b43701",
   "metadata": {
    "execution": {
     "iopub.execute_input": "2024-05-30T23:59:29.164191Z",
     "iopub.status.busy": "2024-05-30T23:59:29.162200Z",
     "iopub.status.idle": "2024-05-30T23:59:29.245945Z",
     "shell.execute_reply": "2024-05-30T23:59:29.243864Z",
     "shell.execute_reply.started": "2024-05-30T23:59:29.163997Z"
    }
   },
   "outputs": [],
   "source": [
    "# Create widgets for setting and canceling goals\n",
    "goal_x_widget = widgets.FloatText(description='Goal X')\n",
    "goal_y_widget = widgets.FloatText(description='Goal Y')\n",
    "set_goal_button = widgets.Button(description='Set Goal')\n",
    "cancel_goal_button = widgets.Button(description='Cancel Goal')\n",
    "\n",
    "# Attach functions to buttons\n",
    "set_goal_button.on_click(set_goal)\n",
    "cancel_goal_button.on_click(cancel_goal)\n"
   ]
  },
  {
   "cell_type": "code",
   "execution_count": 7,
   "id": "7700d3f7-e524-4107-b95a-6e490a6e570d",
   "metadata": {
    "execution": {
     "iopub.execute_input": "2024-05-30T23:59:29.263341Z",
     "iopub.status.busy": "2024-05-30T23:59:29.260210Z",
     "iopub.status.idle": "2024-05-30T23:59:29.357183Z",
     "shell.execute_reply": "2024-05-30T23:59:29.354569Z",
     "shell.execute_reply.started": "2024-05-30T23:59:29.263244Z"
    }
   },
   "outputs": [
    {
     "data": {
      "application/vnd.jupyter.widget-view+json": {
       "model_id": "78ed90cf5225495e90b8e6ca8cdc71fa",
       "version_major": 2,
       "version_minor": 0
      },
      "text/plain": [
       "FloatText(value=0.0, description='Pos X')"
      ]
     },
     "metadata": {},
     "output_type": "display_data"
    },
    {
     "data": {
      "application/vnd.jupyter.widget-view+json": {
       "model_id": "d09eaebd52a742faafcdf5ec6d1f8705",
       "version_major": 2,
       "version_minor": 0
      },
      "text/plain": [
       "FloatText(value=0.0, description='Pos Y')"
      ]
     },
     "metadata": {},
     "output_type": "display_data"
    },
    {
     "data": {
      "application/vnd.jupyter.widget-view+json": {
       "model_id": "d3cba4a03ed2413aa31ba324d5e4fe8e",
       "version_major": 2,
       "version_minor": 0
      },
      "text/plain": [
       "FloatText(value=0.0, description='Vel X')"
      ]
     },
     "metadata": {},
     "output_type": "display_data"
    },
    {
     "data": {
      "application/vnd.jupyter.widget-view+json": {
       "model_id": "be9076ce1a314c53a7b15aaf9e6cd5a2",
       "version_major": 2,
       "version_minor": 0
      },
      "text/plain": [
       "FloatText(value=0.0, description='Vel Z')"
      ]
     },
     "metadata": {},
     "output_type": "display_data"
    },
    {
     "data": {
      "application/vnd.jupyter.widget-view+json": {
       "model_id": "b25b50838c8342d9bbf698a47af9b67d",
       "version_major": 2,
       "version_minor": 0
      },
      "text/plain": [
       "FloatText(value=0.0, description='Goal X')"
      ]
     },
     "metadata": {},
     "output_type": "display_data"
    },
    {
     "data": {
      "application/vnd.jupyter.widget-view+json": {
       "model_id": "dbc296ed3f824f018383f970985bb2c2",
       "version_major": 2,
       "version_minor": 0
      },
      "text/plain": [
       "FloatText(value=0.0, description='Goal Y')"
      ]
     },
     "metadata": {},
     "output_type": "display_data"
    },
    {
     "data": {
      "application/vnd.jupyter.widget-view+json": {
       "model_id": "b8bba31d88af4b5eb97213082ec57cb6",
       "version_major": 2,
       "version_minor": 0
      },
      "text/plain": [
       "Button(description='Set Goal', style=ButtonStyle())"
      ]
     },
     "metadata": {},
     "output_type": "display_data"
    },
    {
     "data": {
      "application/vnd.jupyter.widget-view+json": {
       "model_id": "4fc05ad1032f4d4c810a59b34169bd2b",
       "version_major": 2,
       "version_minor": 0
      },
      "text/plain": [
       "Button(description='Cancel Goal', style=ButtonStyle())"
      ]
     },
     "metadata": {},
     "output_type": "display_data"
    }
   ],
   "source": [
    "# Display the widgets\n",
    "display(pos_x_widget, pos_y_widget, vel_x_widget, vel_z_widget)\n",
    "display(goal_x_widget, goal_y_widget, set_goal_button, cancel_goal_button)\n"
   ]
  },
  {
   "cell_type": "code",
   "execution_count": 8,
   "id": "088dc576-6a8d-4fc7-a51a-02b6ff97d8a5",
   "metadata": {
    "execution": {
     "iopub.execute_input": "2024-05-30T23:59:29.365070Z",
     "iopub.status.busy": "2024-05-30T23:59:29.361951Z",
     "iopub.status.idle": "2024-05-30T23:59:29.998038Z",
     "shell.execute_reply": "2024-05-30T23:59:29.991819Z",
     "shell.execute_reply.started": "2024-05-30T23:59:29.364981Z"
    }
   },
   "outputs": [
    {
     "data": {
      "application/vnd.jupyter.widget-view+json": {
       "model_id": "c7a63fe294e34a489d97b7bbcf3db9a8",
       "version_major": 2,
       "version_minor": 0
      },
      "image/png": "[encoded data removed]",
      "text/html": [
       "\n",
       "            <div style=\"display: inline-block;\">\n",
       "                <div class=\"jupyter-widgets widget-label\" style=\"text-align: center;\">\n",
       "                    Figure\n",
       "                </div>\n",
       "                <img src='data:image/png;base64,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' width=800.0/>\n",
       "            </div>\n",
       "        "
      ],
      "text/plain": [
       "Canvas(toolbar=Toolbar(toolitems=[('Home', 'Reset original view', 'home', 'home'), ('Back', 'Back to previous …"
      ]
     },
     "metadata": {},
     "output_type": "display_data"
    }
   ],
   "source": [
    "# Set up the plot\n",
    "%matplotlib widget\n",
    "fig, (ax1, ax2) = plt.subplots(2, 1, figsize=(8, 10))\n",
    "ax1.set_xlim(-2, 12)\n",
    "ax1.set_ylim(-2, 12)\n",
    "line, = ax1.plot([], [], 'r-')\n",
    "goal_stats_text = ax2.text(0.5, 0.5, \"\", ha='center', va='center', fontsize=12)\n",
    "ax2.axis('off')\n",
    "\n",
    "# Update the plot with odom data\n",
    "def update_plot(frame):\n",
    "    line.set_xdata(x_data)\n",
    "    line.set_ydata(y_data)\n",
    "    ax1.figure.canvas.draw()\n",
    "\n",
    "# Initialize FuncAnimation\n",
    "ani = FuncAnimation(fig, update_plot, blit=False)\n"
   ]
  },
  {
   "cell_type": "code",
   "execution_count": 9,
   "id": "2e073d7e-c5c5-4cc3-aa82-6fbc8fbd1479",
   "metadata": {
    "execution": {
     "iopub.execute_input": "2024-05-30T23:59:30.004019Z",
     "iopub.status.busy": "2024-05-30T23:59:30.001680Z",
     "iopub.status.idle": "2024-05-30T23:59:30.049511Z",
     "shell.execute_reply": "2024-05-30T23:59:30.047843Z",
     "shell.execute_reply.started": "2024-05-30T23:59:30.003903Z"
    }
   },
   "outputs": [
    {
     "data": {
      "text/plain": [
       "<rospy.topics.Subscriber at 0x7ffb38155400>"
      ]
     },
     "execution_count": 9,
     "metadata": {},
     "output_type": "execute_result"
    }
   ],
   "source": [
    "# Odometry callback\n",
    "def odom_callback(odom_data):\n",
    "    position = odom_data.pose.pose.position\n",
    "    linear_velocity = odom_data.twist.twist.linear\n",
    "    angular_velocity = odom_data.twist.twist.angular\n",
    "\n",
    "    x_data.append(position.x)\n",
    "    y_data.append(position.y)\n",
    "    pos_x_widget.value = position.x\n",
    "    pos_y_widget.value = position.y\n",
    "    vel_x_widget.value = linear_velocity.x\n",
    "    vel_z_widget.value = angular_velocity.z\n",
    "\n",
    "# Subscribe to Odometry data\n",
    "rospy.Subscriber(\"/odom\", Odometry, odom_callback)\n"
   ]
  },
  {
   "cell_type": "code",
   "execution_count": null,
   "id": "da17ff68-bd54-4331-bff1-e066f14b3f1f",
   "metadata": {
    "execution": {
     "iopub.execute_input": "2024-05-30T23:59:30.053583Z",
     "iopub.status.busy": "2024-05-30T23:59:30.052383Z"
    }
   },
   "outputs": [],
   "source": [
    "# Keep the node running\n",
    "rospy.spin()\n"
   ]
  }
 ],
 "metadata": {
  "kernelspec": {
   "display_name": "Python 3 (ipykernel)",
   "language": "python",
   "name": "python3"
  },
  "language_info": {
   "codemirror_mode": {
    "name": "ipython",
    "version": 3
   },
   "file_extension": ".py",
   "mimetype": "text/x-python",
   "name": "python",
   "nbconvert_exporter": "python",
   "pygments_lexer": "ipython3",
   "version": "3.8.10"
  }
 },
 "nbformat": 4,
 "nbformat_minor": 5
}
