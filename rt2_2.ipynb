{
 "cells": [
  {
   "cell_type": "code",
   "execution_count": 1,
   "id": "169ac019-e6fa-4b41-a339-8a1f32236359",
   "metadata": {
    "execution": {
     "iopub.execute_input": "2024-05-30T23:59:26.762467Z",
     "iopub.status.busy": "2024-05-30T23:59:26.759878Z",
     "iopub.status.idle": "2024-05-30T23:59:28.771355Z",
     "shell.execute_reply": "2024-05-30T23:59:28.769816Z",
     "shell.execute_reply.started": "2024-05-30T23:59:26.762334Z"
    }
   },
   "outputs": [],
   "source": [
    "# Import Libraries and Configure Environment\n",
    "import sys\n",
    "import os\n",
    "\n",
    "# Assuming ROS is installed in the default location\n",
    "ros_path = '/opt/ros/noetic/lib/python3/dist-packages'\n",
    "if ros_path not in sys.path:\n",
    "    sys.path.append(ros_path)\n",
    "\n",
    "# Add your ROS workspace\n",
    "workspace_path = os.path.join(os.environ['HOME'], 'Desktop/RT1_2/catkin_ws/devel/lib/python3/dist-packages')\n",
    "if workspace_path not in sys.path:\n",
    "    sys.path.append(workspace_path)\n",
    "\n",
    "# Importing necessary libraries\n",
    "import rospy\n",
    "from geometry_msgs.msg import Point, Pose, Twist\n",
    "from nav_msgs.msg import Odometry\n",
    "import actionlib\n",
    "from assignment_2_2023.msg import Vel, PlanningAction, PlanningGoal, PlanningResult\n",
    "from actionlib_msgs.msg import GoalStatus\n",
    "import ipywidgets as widgets\n",
    "from IPython.display import display, clear_output\n",
    "import matplotlib.pyplot as plt\n",
    "from matplotlib.animation import FuncAnimation\n"
   ]
  },
  {
   "cell_type": "code",
   "execution_count": 2,
   "id": "a9473dfc-8928-426a-b680-ce440cd100f7",
   "metadata": {
    "execution": {
     "iopub.execute_input": "2024-05-30T23:59:28.784678Z",
     "iopub.status.busy": "2024-05-30T23:59:28.779612Z",
     "iopub.status.idle": "2024-05-30T23:59:28.804857Z",
     "shell.execute_reply": "2024-05-30T23:59:28.802550Z",
     "shell.execute_reply.started": "2024-05-30T23:59:28.784589Z"
    }
   },
   "outputs": [],
   "source": [
    "# Initialize global variables\n",
    "x_data = []\n",
    "y_data = []\n",
    "reached_goals = 0\n",
    "missed_goals = 0\n",
    "\n",
    "# Define goal handling functions\n",
    "def set_goal(b):\n",
    "    goal_x = goal_x_widget.value\n",
    "    goal_y = goal_y_widget.value\n",
    "    rospy.set_param('/des_pos_x', goal_x)\n",
    "    rospy.set_param('/des_pos_y', goal_y)\n",
    "    new_goal = PlanningGoal()\n",
    "    new_goal.target_pose.pose.position.x = goal_x\n",
    "    new_goal.target_pose.pose.position.y = goal_y\n",
    "    goal_action_client.send_goal(new_goal, done_cb=goal_done_cb)\n",
    "    rospy.loginfo(f\"Set new goal: ({goal_x}, {goal_y})\")\n",
    "\n",
    "def cancel_goal(b):\n",
    "    goal_action_client.cancel_goal()\n",
    "    rospy.loginfo(\"Goal cancelled\")\n",
    "\n",
    "def goal_done_cb(state, result):\n",
    "    global reached_goals, missed_goals\n",
    "    if state == GoalStatus.SUCCEEDED:\n",
    "        reached_goals += 1\n",
    "    else:\n",
    "        missed_goals += 1\n",
    "    update_goal_stats()\n",
    "\n",
    "def update_goal_stats():\n",
    "    goal_stats_text.set_text(f\"Reached Goals: {reached_goals}\\nMissed Goals: {missed_goals}\")\n",
    "    ax2.figure.canvas.draw()\n"
   ]
  },
  {
   "cell_type": "code",
   "execution_count": 3,
   "id": "c17b8729-0f41-4d81-aa05-7e9a26a6fcec",
   "metadata": {
    "execution": {
     "iopub.execute_input": "2024-05-30T23:59:28.809481Z",
     "iopub.status.busy": "2024-05-30T23:59:28.806636Z",
     "iopub.status.idle": "2024-05-30T23:59:28.831239Z",
     "shell.execute_reply": "2024-05-30T23:59:28.828487Z",
     "shell.execute_reply.started": "2024-05-30T23:59:28.809405Z"
    }
   },
   "outputs": [],
   "source": [
    "# Initialize global variables\n",
    "x_data = []\n",
    "y_data = []\n",
    "reached_goals = 0\n",
    "missed_goals = 0\n",
    "\n",
    "# Define goal handling functions\n",
    "def set_goal(b):\n",
    "    goal_x = goal_x_widget.value\n",
    "    goal_y = goal_y_widget.value\n",
    "    rospy.set_param('/des_pos_x', goal_x)\n",
    "    rospy.set_param('/des_pos_y', goal_y)\n",
    "    new_goal = PlanningGoal()\n",
    "    new_goal.target_pose.pose.position.x = goal_x\n",
    "    new_goal.target_pose.pose.position.y = goal_y\n",
    "    goal_action_client.send_goal(new_goal, done_cb=goal_done_cb)\n",
    "    rospy.loginfo(f\"Set new goal: ({goal_x}, {goal_y})\")\n",
    "\n",
    "def cancel_goal(b):\n",
    "    goal_action_client.cancel_goal()\n",
    "    rospy.loginfo(\"Goal cancelled\")\n",
    "\n",
    "def goal_done_cb(state, result):\n",
    "    global reached_goals, missed_goals\n",
    "    if state == GoalStatus.SUCCEEDED:\n",
    "        reached_goals += 1\n",
    "    else:\n",
    "        missed_goals += 1\n",
    "    update_goal_stats()\n",
    "\n",
    "def update_goal_stats():\n",
    "    goal_stats_text.set_text(f\"Reached Goals: {reached_goals}\\nMissed Goals: {missed_goals}\")\n",
    "    ax2.figure.canvas.draw()\n"
   ]
  },
  {
   "cell_type": "code",
   "execution_count": 4,
   "id": "e575406a-5fd7-46ef-b184-2536ea98c928",
   "metadata": {
    "execution": {
     "iopub.execute_input": "2024-05-30T23:59:28.836236Z",
     "iopub.status.busy": "2024-05-30T23:59:28.834492Z",
     "iopub.status.idle": "2024-05-30T23:59:29.076634Z",
     "shell.execute_reply": "2024-05-30T23:59:29.072312Z",
     "shell.execute_reply.started": "2024-05-30T23:59:28.836151Z"
    }
   },
   
    }
   ],
   "source": [
    "# Initialize ROS node and action client with debug information\n",
    "print(\"Initializing ROS node...\")\n",
    "rospy.init_node('target_goal_manager', anonymous=True)\n",
    "print(\"ROS node initialized.\")\n",
    "\n",
    "print(\"Creating action client...\")\n",
    "goal_action_client = actionlib.SimpleActionClient('/reaching_goal', PlanningAction)\n",
    "print(\"Waiting for action server to start...\")\n",
    "\n",
    "# Wait for the action server to start with a longer timeout\n",
    "server_started = goal_action_client.wait_for_server(timeout=rospy.Duration(30.0))\n",
    "if not server_started:\n",
    "    print(\"Error: Action server not available.\")\n",
    "else:\n",
    "    print(\"Action server started.\")\n"
   ]
  },
  {
   "cell_type": "code",
   "execution_count": 5,
   "id": "0f13d492-3838-4db1-9804-78cd8217f764",
   "metadata": {
    "execution": {
     "iopub.execute_input": "2024-05-30T23:59:29.082362Z",
     "iopub.status.busy": "2024-05-30T23:59:29.080867Z",
     "iopub.status.idle": "2024-05-30T23:59:29.158108Z",
     "shell.execute_reply": "2024-05-30T23:59:29.156358Z",
     "shell.execute_reply.started": "2024-05-30T23:59:29.082239Z"
    }
   },
   
   "source": [
    "# Create widgets for displaying position and velocity\n",
    "pos_x_widget = widgets.FloatText(description='Pos X')\n",
    "pos_y_widget = widgets.FloatText(description='Pos Y')\n",
    "vel_x_widget = widgets.FloatText(description='Vel X')\n",
    "vel_z_widget = widgets.FloatText(description='Vel Z')\n"
   ]
  },
  {
   "cell_type": "code",
   "execution_count": 6,
   "id": "68a5d8aa-6f02-47b1-92c2-fc10a8b43701",
   "metadata": {
    "execution": {
     "iopub.execute_input": "2024-05-30T23:59:29.164191Z",
     "iopub.status.busy": "2024-05-30T23:59:29.162200Z",
     "iopub.status.idle": "2024-05-30T23:59:29.245945Z",
     "shell.execute_reply": "2024-05-30T23:59:29.243864Z",
     "shell.execute_reply.started": "2024-05-30T23:59:29.163997Z"
    }
   },
  
   "source": [
    "# Create widgets for setting and canceling goals\n",
    "goal_x_widget = widgets.FloatText(description='Goal X')\n",
    "goal_y_widget = widgets.FloatText(description='Goal Y')\n",
    "set_goal_button = widgets.Button(description='Set Goal')\n",
    "cancel_goal_button = widgets.Button(description='Cancel Goal')\n",
    "\n",
    "# Attach functions to buttons\n",
    "set_goal_button.on_click(set_goal)\n",
    "cancel_goal_button.on_click(cancel_goal)\n"
   ]
  },
  {
   "cell_type": "code",
   "execution_count": 7,
   "id": "7700d3f7-e524-4107-b95a-6e490a6e570d",
   "metadata": {
    "execution": {
     "iopub.execute_input": "2024-05-30T23:59:29.263341Z",
     "iopub.status.busy": "2024-05-30T23:59:29.260210Z",
     "iopub.status.idle": "2024-05-30T23:59:29.357183Z",
     "shell.execute_reply": "2024-05-30T23:59:29.354569Z",
     "shell.execute_reply.started": "2024-05-30T23:59:29.263244Z"
    }
   },
     },
     "metadata": {},
     "output_type": "display_data"
    },
    {
     "data": {
      "application/vnd.jupyter.widget-view+json": {
       "model_id": "d09eaebd52a742faafcdf5ec6d1f8705",
       "version_major": 2,
       "version_minor": 0
      },
      "text/plain": [
       "FloatText(value=0.0, description='Pos Y')"
      ]
     },
     "metadata": {},
     "output_type": "display_data"
    },
    {
     "data": {
      "application/vnd.jupyter.widget-view+json": {
       "model_id": "d3cba4a03ed2413aa31ba324d5e4fe8e",
       "version_major": 2,
       "version_minor": 0
      },
      "text/plain": [
       "FloatText(value=0.0, description='Vel X')"
      ]
     },
     "metadata": {},
     "output_type": "display_data"
    },
    {
     "data": {
      "application/vnd.jupyter.widget-view+json": {
       "model_id": "be9076ce1a314c53a7b15aaf9e6cd5a2",
       "version_major": 2,
       "version_minor": 0
      },
      "text/plain": [
       "FloatText(value=0.0, description='Vel Z')"
      ]
     },
     "metadata": {},
     "output_type": "display_data"
    },
    {
     "data": {
      "application/vnd.jupyter.widget-view+json": {
       "model_id": "b25b50838c8342d9bbf698a47af9b67d",
       "version_major": 2,
       "version_minor": 0
      },
      "text/plain": [
       "FloatText(value=0.0, description='Goal X')"
      ]
     },
     "metadata": {},
     "output_type": "display_data"
    },
    {
     "data": {
      "application/vnd.jupyter.widget-view+json": {
       "model_id": "dbc296ed3f824f018383f970985bb2c2",
       "version_major": 2,
       "version_minor": 0
      },
      "text/plain": [
       "FloatText(value=0.0, description='Goal Y')"
      ]
     },
     "metadata": {},
     "output_type": "display_data"
    },
    {
     "data": {
      "application/vnd.jupyter.widget-view+json": {
       "model_id": "b8bba31d88af4b5eb97213082ec57cb6",
       "version_major": 2,
       "version_minor": 0
      },
      "text/plain": [
       "Button(description='Set Goal', style=ButtonStyle())"
      ]
     },
     "metadata": {},
     "output_type": "display_data"
    },
    {
     "data": {
      "application/vnd.jupyter.widget-view+json": {
       "model_id": "4fc05ad1032f4d4c810a59b34169bd2b",
       "version_major": 2,
       "version_minor": 0
      },
      "text/plain": [
       "Button(description='Cancel Goal', style=ButtonStyle())"
      ]
     },
     "metadata": {},
     "output_type": "display_data"
    }
   ],
   "source": [
    "# Display the widgets\n",
    "display(pos_x_widget, pos_y_widget, vel_x_widget, vel_z_widget)\n",
    "display(goal_x_widget, goal_y_widget, set_goal_button, cancel_goal_button)\n"
   ]
  },
  {
   "cell_type": "code",
   "execution_count": 8,
   "id": "088dc576-6a8d-4fc7-a51a-02b6ff97d8a5",
   "metadata": {
    "execution": {
     "iopub.execute_input": "2024-05-30T23:59:29.365070Z",
     "iopub.status.busy": "2024-05-30T23:59:29.361951Z",
     "iopub.status.idle": "2024-05-30T23:59:29.998038Z",
     "shell.execute_reply": "2024-05-30T23:59:29.991819Z",
     "shell.execute_reply.started": "2024-05-30T23:59:29.364981Z"
    }
   },
  
     
   "source": [
    "# Set up the plot\n",
    "%matplotlib widget\n",
    "fig, (ax1, ax2) = plt.subplots(2, 1, figsize=(8, 10))\n",
    "ax1.set_xlim(-2, 12)\n",
    "ax1.set_ylim(-2, 12)\n",
    "line, = ax1.plot([], [], 'r-')\n",
    "goal_stats_text = ax2.text(0.5, 0.5, \"\", ha='center', va='center', fontsize=12)\n",
    "ax2.axis('off')\n",
    "\n",
    "# Update the plot with odom data\n",
    "def update_plot(frame):\n",
    "    line.set_xdata(x_data)\n",
    "    line.set_ydata(y_data)\n",
    "    ax1.figure.canvas.draw()\n",
    "\n",
    "# Initialize FuncAnimation\n",
    "ani = FuncAnimation(fig, update_plot, blit=False)\n"
   ]
  },
  {
   "cell_type": "code",
   "execution_count": 9,
   "id": "2e073d7e-c5c5-4cc3-aa82-6fbc8fbd1479",
   "metadata": {
    "execution": {
     "iopub.execute_input": "2024-05-30T23:59:30.004019Z",
     "iopub.status.busy": "2024-05-30T23:59:30.001680Z",
     "iopub.status.idle": "2024-05-30T23:59:30.049511Z",
     "shell.execute_reply": "2024-05-30T23:59:30.047843Z",
     "shell.execute_reply.started": "2024-05-30T23:59:30.003903Z"
    }
   },
   "outputs": [
    {
     "data": {
      "text/plain": [
       "<rospy.topics.Subscriber at 0x7ffb38155400>"
      ]
     },
     "execution_count": 9,
     "metadata": {},
     "output_type": "execute_result"
    }
   ],
   "source": [
    "# Odometry callback\n",
    "def odom_callback(odom_data):\n",
    "    position = odom_data.pose.pose.position\n",
    "    linear_velocity = odom_data.twist.twist.linear\n",
    "    angular_velocity = odom_data.twist.twist.angular\n",
    "\n",
    "    x_data.append(position.x)\n",
    "    y_data.append(position.y)\n",
    "    pos_x_widget.value = position.x\n",
    "    pos_y_widget.value = position.y\n",
    "    vel_x_widget.value = linear_velocity.x\n",
    "    vel_z_widget.value = angular_velocity.z\n",
    "\n",
    "# Subscribe to Odometry data\n",
    "rospy.Subscriber(\"/odom\", Odometry, odom_callback)\n"
   ]
  },
  {
   "cell_type": "code",
   "execution_count": null,
   "id": "da17ff68-bd54-4331-bff1-e066f14b3f1f",
   "metadata": {
    "execution": {
     "iopub.execute_input": "2024-05-30T23:59:30.053583Z",
     "iopub.status.busy": "2024-05-30T23:59:30.052383Z"
    }
   },
   
   "source": [
    "# Keep the node running\n",
    "rospy.spin()\n"
   ]
  }
 ],
 "metadata": {
  "kernelspec": {
   "display_name": "Python 3 (ipykernel)",
   "language": "python",
   "name": "python3"
  },
  "language_info": {
   "codemirror_mode": {
    "name": "ipython",
    "version": 3
   },
   "file_extension": ".py",
   "mimetype": "text/x-python",
   "name": "python",
   "nbconvert_exporter": "python",
   "pygments_lexer": "ipython3",
   "version": "3.8.10"
  }
 },
 "nbformat": 4,
 "nbformat_minor": 5
}
